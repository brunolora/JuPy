{
 "cells": [
  {
   "cell_type": "markdown",
   "metadata": {},
   "source": [
    "# Checkpoint 1 - Gráficos, Estatísticas e Análise Exploratória\n",
    "\n",
    "### Instruções:\n",
    "\n",
    "- Neste Jupyter Notebook há 10 questões de Análise Exploratória. Cada questão possui uma pontuação indicada em vermelho, somando 10 pontos ao final;\n",
    "- O CP é em grupo, o mesmo grupo do Challenge;\n",
    "- Preencham o nome de cada membro do grupo corretamente;\n",
    "- Coloque seu código solução logo abaixo de cada questão que ele responde;\n",
    "- Use células markdown para escrever respostas que forem pedidas ou que você achar pertinentes;\n",
    "- Você pode e **deve** usar bibliotecas prontas. Ao importar uma biblioteca, comente na frente para o que ela serve;\n",
    "- Antes de submeter o jupyter no Teams, renomeie-o para **CP1-turma-NomeSobrenome.ipynb** onde **turma** deve ser trocado pela turma do grupo (H,A,J,F,G) e o NomeSobrenome trocado pelo nome e sobrenome do aluno que submeter o arquivo.\n",
    "\n",
    "### Atenção:\n",
    "Vocês podem usar trechos de códigos prontos, entretanto é pouco provável que dois grupos tenham códigos **totalmente iguais**, nas mesmas sequências com as mesmas respostas. Caso for constatada semelhança exagerada entre dois arquivos que indique **plágio**, a nota  <font color='red'> será zerada!</font>"
   ]
  },
  {
   "cell_type": "markdown",
   "metadata": {},
   "source": [
    "## Grupo [nome do grupo] Turma: H\n",
    "- **Nome:** Bruno Lora **RM:89321**\n",
    "- **Nome:** Matheus Meneguim **RM:88123**\n",
    "- **Nome:** Pedro Leite **RM:86940**"
   ]
  },
  {
   "cell_type": "markdown",
   "metadata": {},
   "source": [
    "------------------------------"
   ]
  },
  {
   "cell_type": "markdown",
   "metadata": {},
   "source": [
    "## Fifa 2019\n",
    "\n",
    "No arquivo data_fifa2019.csv há dados de jogadores de futebol inseridos no jogo eletrônico Fifa.\n",
    "\n",
    "Vocês devem realizar aquilo que é pedido em cada Exercício.\n",
    "\n",
    "Mais informações sobre esse conjunto de dados pode ser obtida aqui [Fifa 2019](https://www.kaggle.com/karangadiya/fifa19)."
   ]
  },
  {
   "cell_type": "markdown",
   "metadata": {},
   "source": [
    "### 1) Importe as bibliotecas necessárias e carregue os dados do arquivo 'data_fifa2019.csv' em um pandas dataframe e respoda <font color='red'>(0.5 ponto)</font>:\n",
    "\n",
    "(a) Quantos jogadores existem nessa base da dados?\n",
    "\n",
    "(b) Quantos atributos de cada jogador são avaliados?\n",
    "\n",
    "(c) Quantos desses atributos são numéricos e quantos são categóricos?"
   ]
  },
  {
   "cell_type": "code",
   "execution_count": 23,
   "metadata": {},
   "outputs": [],
   "source": [
    "import pandas as pd"
   ]
  },
  {
   "cell_type": "code",
   "execution_count": 24,
   "metadata": {},
   "outputs": [],
   "source": [
    "import statistics"
   ]
  },
  {
   "cell_type": "code",
   "execution_count": 25,
   "metadata": {},
   "outputs": [
    {
     "ename": "ModuleNotFoundError",
     "evalue": "No module named 'matplotlib'",
     "output_type": "error",
     "traceback": [
      "\u001b[1;31m---------------------------------------------------------------------------\u001b[0m",
      "\u001b[1;31mModuleNotFoundError\u001b[0m                       Traceback (most recent call last)",
      "\u001b[1;32m~\\AppData\\Local\\Temp/ipykernel_2720/1979812861.py\u001b[0m in \u001b[0;36m<module>\u001b[1;34m\u001b[0m\n\u001b[1;32m----> 1\u001b[1;33m \u001b[1;32mimport\u001b[0m \u001b[0mmatplotlib\u001b[0m\u001b[1;33m.\u001b[0m\u001b[0mpyplot\u001b[0m \u001b[1;32mas\u001b[0m \u001b[0mplt\u001b[0m  \u001b[1;31m# Para trabalhar com gráficos\u001b[0m\u001b[1;33m\u001b[0m\u001b[1;33m\u001b[0m\u001b[0m\n\u001b[0m\u001b[0;32m      2\u001b[0m \u001b[1;32mimport\u001b[0m \u001b[0mseaborn\u001b[0m \u001b[1;32mas\u001b[0m \u001b[0msns\u001b[0m\u001b[1;33m\u001b[0m\u001b[1;33m\u001b[0m\u001b[0m\n",
      "\u001b[1;31mModuleNotFoundError\u001b[0m: No module named 'matplotlib'"
     ]
    }
   ],
   "source": [
    "import matplotlib.pyplot as plt  # Para trabalhar com gráficos\n",
    "import seaborn as sns"
   ]
  },
  {
   "cell_type": "code",
   "execution_count": 26,
   "metadata": {},
   "outputs": [],
   "source": [
    "dados = pd.read_csv('C:/Users/admin/Documents/Fiap/IA/PyJup/data_fifa2019.csv',sep=',')"
   ]
  },
  {
   "cell_type": "code",
   "execution_count": 27,
   "metadata": {},
   "outputs": [
    {
     "name": "stdout",
     "output_type": "stream",
     "text": [
      "(a) Quantos jogadores existem nessa base da dados?\n",
      "(b) Quantos atributos de cada jogador são avaliados?\n",
      "\n",
      "Numero de jogadores na tabela:  18207 linhas\n",
      "Numero de atributos na tabela:  89 colunas\n",
      "\n",
      "(c) Quantos desses atributos são numéricos e quantos são categóricos? \n",
      "\n",
      "Numero de atributos numericos:  44 colunas\n",
      "Numero de atributos categoricos:  45 colunas\n"
     ]
    }
   ],
   "source": [
    "#o numero de linhas equivale ao numero de jogadores\n",
    "linhas = len(dados)\n",
    "\n",
    "print('(a) Quantos jogadores existem nessa base da dados?')\n",
    "print('(b) Quantos atributos de cada jogador são avaliados?\\n')\n",
    "print('Numero de jogadores na tabela: ',linhas,'linhas')\n",
    "\n",
    "#o numero de colunas equivale ao numero de atributos\n",
    "colunas = (len(dados.columns))\n",
    "print('Numero de atributos na tabela: ',colunas,'colunas')\n",
    "\n",
    "\n",
    "#converte os dados para dtypes, melhor selecao dos valores\n",
    "dados_convertidos = dados.convert_dtypes()\n",
    "\n",
    "#print dos dados convertidos\n",
    "#dt=(dados_convertidos.dtypes)\n",
    "#print(dt)\n",
    "\n",
    "print('\\n(c) Quantos desses atributos são numéricos e quantos são categóricos? \\n')\n",
    "#pega os valores Int64 e Float64 dentro dos dados convertidos\n",
    "numeros_tabela = (dados_convertidos.select_dtypes(include=['Int64']))\n",
    "\n",
    "#pega valores que nao sao considerados Int64 dos dados convertidos\n",
    "nao_numeros_tabela = (dados_convertidos.select_dtypes(exclude=['Int64']))\n",
    "\n",
    "#printa o numero de colunas em numeros_tabela\n",
    "atributos_numericos = len(numeros_tabela.columns)\n",
    "print('Numero de atributos numericos: ',atributos_numericos,'colunas')\n",
    "\n",
    "#printa o numero de colunas em nao numeros tabela\n",
    "atributos_nao_numericos = len(nao_numeros_tabela.columns)\n",
    "print('Numero de atributos categoricos: ',atributos_nao_numericos,'colunas')"
   ]
  },
  {
   "cell_type": "markdown",
   "metadata": {},
   "source": [
    "####  a)O número de jogadores nessa base de dados é 18207 jogadores.\n",
    "\n",
    "####  b)O número de atributos para cada jogador é 89 atributos\n",
    "\n",
    "####  c)45 desses atributos são categóricos e 44 são numéricos"
   ]
  },
  {
   "cell_type": "markdown",
   "metadata": {},
   "source": [
    "### 2) Faça uma função para arrumar os valores da coluna Value dos jogadores. <font color='red'>(0.75 ponto)</font>\n",
    "\n",
    "Você deve fazer uma função que recebe uma string e converte a string para um float, que representa o valor do jogador em euros. Lembre que **K** significa 1000 e **M** significa 1000000. O símbolo de euro é **€**. Não esqueça de forçar o tipo float.\n",
    "\n",
    "Após criar a função, aplique-a a coluna de dados 'value' do seu dataframe e obtenha em uma coluna o valor de cada jogador."
   ]
  },
  {
   "cell_type": "code",
   "execution_count": 28,
   "metadata": {},
   "outputs": [],
   "source": [
    "def arrumar_value(x):\n",
    "    dados_str = x\n",
    "    value_float = float(dados_str)\n",
    "    return value_float"
   ]
  },
  {
   "cell_type": "code",
   "execution_count": 29,
   "metadata": {},
   "outputs": [],
   "source": [
    "nome = dados['Value'].apply(lambda x: str(x.replace(\"€\",\"\")))"
   ]
  },
  {
   "cell_type": "code",
   "execution_count": null,
   "metadata": {},
   "outputs": [],
   "source": [
    "dados['Value'] = dados['Value'].apply(arrumar_value)"
   ]
  },
  {
   "cell_type": "markdown",
   "metadata": {},
   "source": [
    "### 3) Usando a função overall_classes, crie uma coluna denominada 'Performance' com as classes de jogadores baseado no valor da coluna 'Overall'. Gere uma distribuição (histograma) com a Performance de todos os jogadores e outra com a coluna Overall. Compare as duas. <font color='red'>(0.75 ponto)</font>"
   ]
  },
  {
   "cell_type": "code",
   "execution_count": null,
   "metadata": {},
   "outputs": [],
   "source": [
    "# Criando três classes baseado no Overall\n",
    "# A função recebe um valor e retorna uma classe categórica da performance do jogador (Low, Normal, High)\n",
    "def overall_classes(x):\n",
    "    if x < 60:\n",
    "        return 'Baixa'\n",
    "    if x < 75:\n",
    "        return 'Normal'\n",
    "    return 'Alta'"
   ]
  },
  {
   "cell_type": "code",
   "execution_count": null,
   "metadata": {},
   "outputs": [],
   "source": [
    "dados['Performance'] = dados['Overall'].apply(overall_classes)"
   ]
  },
  {
   "cell_type": "code",
   "execution_count": null,
   "metadata": {},
   "outputs": [],
   "source": [
    "fig, axes = plt.subplots(1, 2, figsize=(10, 4))\n",
    "fig.suptitle('Dados de Performance e Overall')\n",
    "\n",
    "\n",
    "sns.histplot(ax=axes[0],\n",
    "            data=dados['Overall'],\n",
    "            kde=True,\n",
    "            bins=10,\n",
    "            linewidth=0.7,\n",
    "            )\n",
    "\n",
    "sns.histplot(ax=axes[1],\n",
    "            data=dados['Performance'],\n",
    "            kde=True,\n",
    "            bins=10,\n",
    "            linewidth=0.7,\n",
    "            )\n",
    "\n",
    "axes[0].set(xlabel='Overall', ylabel='Jogadores')\n",
    "axes[1].set(xlabel='Performance', ylabel='Jogadores')"
   ]
  },
  {
   "cell_type": "markdown",
   "metadata": {},
   "source": [
    "####  Resposta: A comparação dos dois histogramas demonstra que eles indicam o mesmo resultado, sendo que uma parte significativa dos atletas tem uma performance normal e tem um Overall entre 60 e 75. Já as outras são menos significativas, sendo que poucos atletas estão acima ou abaixo da média."
   ]
  },
  {
   "cell_type": "markdown",
   "metadata": {},
   "source": [
    "### 4) Em relação a idade (Age) dos jogadores, calcule a média aritmética e a incerteza da média: <font color='red'>(1 ponto)</font>\n",
    "\n",
    "(a) Todos os jogadores\n",
    "\n",
    "(b) Jogadores de Alta Performance\n",
    "\n",
    "(c) Jogadores de Performance Normal\n",
    "\n",
    "(d) Jogadores de Baixa Performance"
   ]
  },
  {
   "cell_type": "code",
   "execution_count": null,
   "metadata": {},
   "outputs": [],
   "source": [
    "# Variavel recebe todos as age dos jogadores\n",
    "age = (dados['Age'])\n",
    "#performance dos jogadores\n",
    "performance = (dados['Performance'])\n",
    "\n",
    "print('(a) Todos os jogadores: \\n')\n",
    "#media aritmetica da Age de todos os jogadores\n",
    "media_todos = round(age.sum()/len(age), 2)\n",
    "print('Media das ages, todos os jogadores:',media_todos)\n",
    "\n",
    "# incerteza da media de todos os jogadores\n",
    "N = len(age)\n",
    "media = media_todos\n",
    "\n",
    "soma=0\n",
    "for xi in age:\n",
    "    soma = soma+(xi-media)**2\n",
    "incerteza_todos = (soma/(N*(N-1)))**(1/2)\n",
    "print('Incerteza da media, todos os jogadores',incerteza_todos, '\\n')\n",
    "\n",
    "\n",
    "\n",
    "print('(b) Jogadores de Alta Performance:\\n')\n",
    "#pega os jogadores de Alta Performance\n",
    "performance_alta = dados[performance.str.contains('Alta')]\n",
    "\n",
    "#pega Age dos jogadores com alta performance\n",
    "age_perf_alta = (performance_alta['Age'])\n",
    "\n",
    "#media aritmetica da Age dos jogadores de Alta Performance\n",
    "media_AltaP = age_perf_alta.sum() / len(age_perf_alta)\n",
    "print('Media das ages, jogadores de Alta Performance:', media_AltaP)\n",
    "\n",
    "#incerteza da media dos jogadores de Alta performance\n",
    "N = len(age_perf_alta)\n",
    "media = media_AltaP\n",
    "\n",
    "soma=0\n",
    "for xi in age_perf_alta:\n",
    "    soma = soma+(xi-media)**2\n",
    "incerteza_AltaP = (soma/(N*(N-1)))**(1/2)\n",
    "print('Incerteza da media, jogadores Alta Performance:',incerteza_AltaP, '\\n')\n",
    "\n",
    "\n",
    "\n",
    "print('(c) Jogadores de Performance Normal:\\n')\n",
    "#pega os jogadores de Performance Normal\n",
    "performance_normal = dados[performance.str.contains('Normal')]\n",
    "\n",
    "#pega Age dos jogadores com Performance Normal\n",
    "age_perf_normal = (performance_normal['Age'])\n",
    "\n",
    "#media aritmetica da Age dos jogadores de Performance Normal\n",
    "media_PNormal = age_perf_normal.sum() / len(age_perf_normal)\n",
    "print('Media das ages, jogadores de Performance Normal:', media_PNormal)\n",
    "\n",
    "#incerteza da media dos jogadores de Performance Normal\n",
    "N = len(age_perf_normal)\n",
    "media = media_PNormal\n",
    "\n",
    "soma=0\n",
    "for xi in age_perf_normal:\n",
    "    soma = soma+(xi-media)**2\n",
    "incerteza_PNormal = (soma/(N*(N-1)))**(1/2)\n",
    "print('Incerteza da media, jogadores Performance Normal:',incerteza_PNormal, '\\n')\n",
    "\n",
    "\n",
    "print('(d) Jogadores de Baixa Performance:\\n')\n",
    "#pega os jogadores de Performance Baixa\n",
    "performance_baixa = dados[performance.str.contains('Baixa')]\n",
    "\n",
    "#pega Age dos jogadores com Performance Baixa\n",
    "age_perf_baixa = (performance_baixa['Age'])\n",
    "\n",
    "#media aritmetica da Age dos jogadores de Performance Baixa\n",
    "media_PBaixa = age_perf_baixa.sum() / len(age_perf_baixa)\n",
    "print('Media das ages, jogadores de Performance Baixa:', media_PBaixa)\n",
    "\n",
    "#incerteza da media dos jogadores de Performance Baixa\n",
    "N = len(age_perf_baixa)\n",
    "media = media_PBaixa\n",
    "\n",
    "soma=0\n",
    "for xi in age_perf_baixa:\n",
    "    soma = soma+(xi-media)**2\n",
    "incerteza_PBaixa = (soma/(N*(N-1)))**(1/2)\n",
    "print('Incerteza da media, jogadores Performance Normal:',incerteza_PBaixa, '\\n')\n"
   ]
  },
  {
   "cell_type": "markdown",
   "metadata": {},
   "source": [
    "### 5) Faça um gráfico de barras com as médias calculadas no exercício 4. Inclua as incertezas como barras de erro associadas a cada barra de valor. Você terá que olhar na documentação do matplotlib! <font color='red'>(1 ponto)</font>"
   ]
  },
  {
   "cell_type": "code",
   "execution_count": null,
   "metadata": {},
   "outputs": [],
   "source": [
    "#valores das medias - eixo X\n",
    "medias_gerais = ['Geral', 'Alta', 'Normal', 'Baixa']\n",
    "#nomes das colunas - eixo Y\n",
    "valores_gerais = [media_todos, media_AltaP, media_PNormal, media_PBaixa]\n",
    "\n",
    "#Inserindo os valores anteriores para o plt.bar\n",
    "plt.bar=(medias_gerais, valores_gerais)\n",
    "\n",
    "#criando uma figure, axes, alterando tamanho\n",
    "fig, ax = plt.subplots(figsize=(5,6))\n",
    "\n",
    "#criando o gráfico de barras\n",
    "sns.barplot(x=medias_gerais, y=valores_gerais, ax=ax, data=dados, palette='RdPu')\n",
    "\n",
    "#adicionando título\n",
    "ax.set_title(\"Media Rendimento X Performance Jogadores\", fontdict={'fontsize':15})\n",
    "\n",
    "#mudando nome e tamanho do label x\n",
    "ax.set_xlabel('Performance dos jogadores', fontdict={'fontsize':14})\n",
    "\n",
    "#mudando nome e tamanho do label y\n",
    "ax.set_ylabel('Media de Rendimentos', fontdict={'fontsize':14})\n",
    "\n",
    "#mudando tamanho dos labels dos ticks\n",
    "ax.tick_params(labelsize=14)\n",
    "\n",
    "#otimizar espaço da figure\n",
    "fig.tight_layout();\n",
    "\n",
    "\n",
    "#valor das incertezas\n",
    "valor_incertezas = [incerteza_todos, incerteza_AltaP, incerteza_PNormal, incerteza_PBaixa]\n",
    "#nome das incertezas\n",
    "nome_incertezas = ['Geral', 'Alta', 'PNormal', 'PBaixa']\n",
    "\n",
    "#inserindo os valores anteriores para o plt.errorbar\n",
    "plt.errorbar(medias_gerais, valores_gerais, yerr = valor_incertezas)"
   ]
  },
  {
   "cell_type": "markdown",
   "metadata": {},
   "source": [
    "### 6) Repita os exerícios 4 e 5 fazendo para a coluna de valor (Value) dos jogadores. <font color='red'>(0.75 ponto)</font>"
   ]
  },
  {
   "cell_type": "code",
   "execution_count": null,
   "metadata": {},
   "outputs": [],
   "source": [
    "# Coloque seu código aqui"
   ]
  },
  {
   "cell_type": "markdown",
   "metadata": {},
   "source": [
    "### 7) Faça um gráfico boxplot da idade e do valor dos jogadores onde cada boxplot é uma classe de performance. O que você pode interepretar desse gráfico? <font color='red'>(1 ponto)</font>\n"
   ]
  },
  {
   "cell_type": "code",
   "execution_count": null,
   "metadata": {
    "scrolled": false
   },
   "outputs": [],
   "source": [
    "fig, axes = plt.subplots(1, 2, figsize=(15, 80))\n",
    "fig.suptitle('Dados dos Atletas')\n",
    "\n",
    "sns.boxplot(x=\"Age\", y=\"Value\",hue=\"Performance\",\n",
    "            palette=[\"g\",\"r\",\"b\"],\n",
    "            linewidth=0.9,\n",
    "            ax=axes[0],\n",
    "            data=dados\n",
    "           )\n"
   ]
  },
  {
   "cell_type": "markdown",
   "metadata": {},
   "source": [
    "####  Resposta: É possível interpretar pelo gráfico que o valor dos jogadores está diretamente relacionado com a performance. A idade pode afetar a performance mas isso é mais observado nos jogadores mais novos que, geralmente tem uma performance \"baixa\".\n"
   ]
  },
  {
   "cell_type": "markdown",
   "metadata": {},
   "source": [
    "### 8) Faça um gráfico de dispersão entre idade e valor. Considere gerar um gráfico para todos os jogadores, e 3 gráficos para cada classe de performance. Existe algum padrão? <font color='red'>(1 ponto)</font>\n",
    "\n",
    "Dica: use o eixo de valor em escala logarítmica."
   ]
  },
  {
   "cell_type": "code",
   "execution_count": 31,
   "metadata": {},
   "outputs": [
    {
     "ename": "NameError",
     "evalue": "name 'sns' is not defined",
     "output_type": "error",
     "traceback": [
      "\u001b[1;31m---------------------------------------------------------------------------\u001b[0m",
      "\u001b[1;31mNameError\u001b[0m                                 Traceback (most recent call last)",
      "\u001b[1;32m~\\AppData\\Local\\Temp/ipykernel_2720/97743606.py\u001b[0m in \u001b[0;36m<module>\u001b[1;34m\u001b[0m\n\u001b[1;32m----> 1\u001b[1;33m sns.jointplot(data=dados,x=\"Age\", y=\"Value\",\n\u001b[0m\u001b[0;32m      2\u001b[0m               \u001b[0mheight\u001b[0m\u001b[1;33m=\u001b[0m\u001b[1;36m30\u001b[0m\u001b[1;33m,\u001b[0m\u001b[1;33m\u001b[0m\u001b[1;33m\u001b[0m\u001b[0m\n\u001b[0;32m      3\u001b[0m               \u001b[0mratio\u001b[0m\u001b[1;33m=\u001b[0m\u001b[1;36m2\u001b[0m\u001b[1;33m,\u001b[0m\u001b[1;33m\u001b[0m\u001b[1;33m\u001b[0m\u001b[0m\n\u001b[0;32m      4\u001b[0m               \u001b[0mmarginal_ticks\u001b[0m\u001b[1;33m=\u001b[0m\u001b[1;32mTrue\u001b[0m\u001b[1;33m,\u001b[0m\u001b[1;33m\u001b[0m\u001b[1;33m\u001b[0m\u001b[0m\n\u001b[0;32m      5\u001b[0m               \u001b[0mhue\u001b[0m \u001b[1;33m=\u001b[0m \u001b[1;34m'Performance'\u001b[0m\u001b[1;33m\u001b[0m\u001b[1;33m\u001b[0m\u001b[0m\n",
      "\u001b[1;31mNameError\u001b[0m: name 'sns' is not defined"
     ]
    }
   ],
   "source": [
    "sns.jointplot(data=dados,x=\"Age\", y=\"Value\",\n",
    "              height=30, \n",
    "              ratio=2,\n",
    "              marginal_ticks=True,\n",
    "              hue = 'Performance'\n",
    "             )"
   ]
  },
  {
   "cell_type": "markdown",
   "metadata": {},
   "source": [
    "####  Resposta: É possível interpretar pelo gráfico que o valor dos jogadores está relacionado com a performance do individuo. Os jogadores com performance baixa tem valores mais baixos e um número significativo deles tem menos de 26 anos enquanto que os jogadores com performance média e alta tem uma maior distribuição de idades."
   ]
  },
  {
   "cell_type": "markdown",
   "metadata": {},
   "source": [
    "### 9) Em relação a nacionalidade e ao clube dos jogadores, responda: <font color='red'>(2 pontos)</font>\n",
    "\n",
    "(a) Qual é o país com o maior número de jogadores na classe de Alta Performance? E de performance Normal e Baixa?\n",
    "\n",
    "(b) Qual é o país com maior média de idade dos jogadores? E qual é o país com menor média?\n",
    "\n",
    "(c) Qual é o clube com o maior número de jodarores na classe de Alta Performance?\n",
    "\n",
    "(d) Qual é o clube mais valioso em termos de valor de jogadores? E o menos valioso? Qual é a média e desvio padrão amostral de valor dos clubes?\n",
    "\n",
    "(e) Plote um histograma do valor dos clubes (soma do valor dos jogadores do clube); \n",
    "\n",
    "**Dica:** Use a função groupby do Pandas encadeada com funções de média, soma e contagem (mean, sum, count)."
   ]
  },
  {
   "cell_type": "code",
   "execution_count": 32,
   "metadata": {},
   "outputs": [
    {
     "data": {
      "text/plain": [
       "164"
      ]
     },
     "execution_count": 32,
     "metadata": {},
     "output_type": "execute_result"
    }
   ],
   "source": [
    "len(set(dados['Nationality'])) # Número de paises"
   ]
  },
  {
   "cell_type": "code",
   "execution_count": 33,
   "metadata": {},
   "outputs": [
    {
     "ename": "NameError",
     "evalue": "name 'performance_alta' is not defined",
     "output_type": "error",
     "traceback": [
      "\u001b[1;31m---------------------------------------------------------------------------\u001b[0m",
      "\u001b[1;31mNameError\u001b[0m                                 Traceback (most recent call last)",
      "\u001b[1;32m~\\AppData\\Local\\Temp/ipykernel_2720/113326371.py\u001b[0m in \u001b[0;36m<module>\u001b[1;34m\u001b[0m\n\u001b[0;32m      1\u001b[0m \u001b[1;31m# #pega Nacionalidade dos jogadores com alta performance\u001b[0m\u001b[1;33m\u001b[0m\u001b[1;33m\u001b[0m\u001b[0m\n\u001b[1;32m----> 2\u001b[1;33m \u001b[0mnat_alta\u001b[0m \u001b[1;33m=\u001b[0m \u001b[1;33m(\u001b[0m\u001b[0mperformance_alta\u001b[0m\u001b[1;33m[\u001b[0m\u001b[1;34m'Nationality'\u001b[0m\u001b[1;33m]\u001b[0m\u001b[1;33m)\u001b[0m\u001b[1;33m\u001b[0m\u001b[1;33m\u001b[0m\u001b[0m\n\u001b[0m\u001b[0;32m      3\u001b[0m \u001b[1;33m\u001b[0m\u001b[0m\n\u001b[0;32m      4\u001b[0m \u001b[0mprint\u001b[0m\u001b[1;33m(\u001b[0m\u001b[0mnat_alta\u001b[0m\u001b[1;33m.\u001b[0m\u001b[0mvalue_counts\u001b[0m\u001b[1;33m(\u001b[0m\u001b[1;33m)\u001b[0m\u001b[1;33m)\u001b[0m\u001b[1;33m\u001b[0m\u001b[1;33m\u001b[0m\u001b[0m\n\u001b[0;32m      5\u001b[0m \u001b[1;33m\u001b[0m\u001b[0m\n",
      "\u001b[1;31mNameError\u001b[0m: name 'performance_alta' is not defined"
     ]
    }
   ],
   "source": [
    "# #pega Nacionalidade dos jogadores com alta performance\n",
    "nat_alta = (performance_alta['Nationality'])\n",
    "\n",
    "print(nat_alta.value_counts())\n",
    "\n",
    "\n",
    "# #pega Nacionalidade dos jogadores com normal performance\n",
    "nat_media = (performance_normal['Nationality'])\n",
    "\n",
    "print(nat_media.value_counts())\n",
    "\n",
    "# #pega Nacionalidade dos jogadores com baixa performance\n",
    "nat_baixa = (performance_baixa['Nationality'])\n",
    "\n",
    "print(nat_baixa.value_counts())"
   ]
  },
  {
   "cell_type": "code",
   "execution_count": null,
   "metadata": {},
   "outputs": [],
   "source": [
    "media_nt = (media_todos['Nationality'])\n",
    "\n",
    "print(media_nt.value_counts())"
   ]
  },
  {
   "cell_type": "code",
   "execution_count": 20,
   "metadata": {},
   "outputs": [
    {
     "ename": "NameError",
     "evalue": "name 'performance_alta' is not defined",
     "output_type": "error",
     "traceback": [
      "\u001b[1;31m---------------------------------------------------------------------------\u001b[0m",
      "\u001b[1;31mNameError\u001b[0m                                 Traceback (most recent call last)",
      "\u001b[1;32m~\\AppData\\Local\\Temp/ipykernel_2720/3798489403.py\u001b[0m in \u001b[0;36m<module>\u001b[1;34m\u001b[0m\n\u001b[0;32m      1\u001b[0m \u001b[1;31m#pega o Clube  com alta performance\u001b[0m\u001b[1;33m\u001b[0m\u001b[1;33m\u001b[0m\u001b[0m\n\u001b[1;32m----> 2\u001b[1;33m \u001b[0mclube_alta\u001b[0m \u001b[1;33m=\u001b[0m \u001b[1;33m(\u001b[0m\u001b[0mperformance_alta\u001b[0m\u001b[1;33m[\u001b[0m\u001b[1;34m'Club'\u001b[0m\u001b[1;33m]\u001b[0m\u001b[1;33m)\u001b[0m\u001b[1;33m\u001b[0m\u001b[1;33m\u001b[0m\u001b[0m\n\u001b[0m\u001b[0;32m      3\u001b[0m \u001b[1;33m\u001b[0m\u001b[0m\n\u001b[0;32m      4\u001b[0m \u001b[0mprint\u001b[0m\u001b[1;33m(\u001b[0m\u001b[0mclube_alta\u001b[0m\u001b[1;33m.\u001b[0m\u001b[0mvalue_counts\u001b[0m\u001b[1;33m(\u001b[0m\u001b[1;33m)\u001b[0m\u001b[1;33m)\u001b[0m\u001b[1;33m\u001b[0m\u001b[1;33m\u001b[0m\u001b[0m\n",
      "\u001b[1;31mNameError\u001b[0m: name 'performance_alta' is not defined"
     ]
    }
   ],
   "source": [
    "#pega o Clube  com alta performance\n",
    "clube_alta = (performance_alta['Club'])\n",
    "\n",
    "print(clube_alta.value_counts())"
   ]
  },
  {
   "cell_type": "code",
   "execution_count": 21,
   "metadata": {},
   "outputs": [
    {
     "ename": "NameError",
     "evalue": "name 'dados' is not defined",
     "output_type": "error",
     "traceback": [
      "\u001b[1;31m---------------------------------------------------------------------------\u001b[0m",
      "\u001b[1;31mNameError\u001b[0m                                 Traceback (most recent call last)",
      "\u001b[1;32m~\\AppData\\Local\\Temp/ipykernel_2720/3658743861.py\u001b[0m in \u001b[0;36m<module>\u001b[1;34m\u001b[0m\n\u001b[0;32m      1\u001b[0m \u001b[1;31m#pega o Clube  com alta performance\u001b[0m\u001b[1;33m\u001b[0m\u001b[1;33m\u001b[0m\u001b[0m\n\u001b[1;32m----> 2\u001b[1;33m \u001b[0mvalor_alto\u001b[0m \u001b[1;33m=\u001b[0m \u001b[1;33m(\u001b[0m\u001b[0mdados\u001b[0m\u001b[1;33m[\u001b[0m\u001b[1;34m'Club'\u001b[0m\u001b[1;33m]\u001b[0m\u001b[1;33m)\u001b[0m\u001b[1;33m\u001b[0m\u001b[1;33m\u001b[0m\u001b[0m\n\u001b[0m\u001b[0;32m      3\u001b[0m \u001b[1;33m\u001b[0m\u001b[0m\n\u001b[0;32m      4\u001b[0m \u001b[0mprint\u001b[0m\u001b[1;33m(\u001b[0m\u001b[0mvalor_alto\u001b[0m\u001b[1;33m.\u001b[0m\u001b[0mvalue_counts\u001b[0m\u001b[1;33m(\u001b[0m\u001b[1;33m)\u001b[0m\u001b[1;33m)\u001b[0m\u001b[1;33m\u001b[0m\u001b[1;33m\u001b[0m\u001b[0m\n",
      "\u001b[1;31mNameError\u001b[0m: name 'dados' is not defined"
     ]
    }
   ],
   "source": [
    "#pega o Clube  com alta performance\n",
    "valor_alto = (dados['Club'])\n",
    "\n",
    "print(valor_alto.value_counts())"
   ]
  },
  {
   "cell_type": "markdown",
   "metadata": {},
   "source": [
    "### 10) Pergunta aberta <font color='red'>(1.25 pontos)</font>:\n",
    "\n",
    "Após analisar todos os dados, você conseguiria traçar uma estratégia de investimento para lucrar com algum time? \n",
    "\n",
    "Quais são as características dos times de alta performance?\n",
    "\n",
    "Você acha possível analisar usando apenas idade e valor, ou precisaria usar outros dados da base da dados disponível?"
   ]
  },
  {
   "cell_type": "markdown",
   "metadata": {},
   "source": [
    "####  Resposta:Analisando times que possuem muitos atletas de alta performance é interessante investir pois esse time é mais provável de ter uma boa performance em competições.\n",
    "\n",
    "####  Resposta:\n",
    "\n",
    "####  Resposta:Sim, é possível analisar apenas com idade e valor, observa-se que os jogadores mais jovens geralmente não tem um valor tão alto mas que jogadores entre 24 anos e 35 anos tem um valor mais alto. Com mais dados conseguiriamos entender quais fatores afetam o valor e porque os atletas mais jovens costumam ter um valor mais baixo."
   ]
  },
  {
   "cell_type": "code",
   "execution_count": null,
   "metadata": {},
   "outputs": [],
   "source": []
  },
  {
   "cell_type": "code",
   "execution_count": null,
   "metadata": {},
   "outputs": [],
   "source": []
  }
 ],
 "metadata": {
  "kernelspec": {
   "display_name": "Python 3 (ipykernel)",
   "language": "python",
   "name": "python3"
  },
  "language_info": {
   "codemirror_mode": {
    "name": "ipython",
    "version": 3
   },
   "file_extension": ".py",
   "mimetype": "text/x-python",
   "name": "python",
   "nbconvert_exporter": "python",
   "pygments_lexer": "ipython3",
   "version": "3.9.7"
  }
 },
 "nbformat": 4,
 "nbformat_minor": 2
}
