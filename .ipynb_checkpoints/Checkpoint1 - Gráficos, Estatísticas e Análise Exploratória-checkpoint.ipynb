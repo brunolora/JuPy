{
 "cells": [
  {
   "cell_type": "markdown",
   "metadata": {},
   "source": [
    "# Checkpoint 1 - Gráficos, Estatísticas e Análise Exploratória\n",
    "\n",
    "### Instruções:\n",
    "\n",
    "- Neste Jupyter Notebook há 10 questões de Análise Exploratória. Cada questão possui uma pontuação indicada em vermelho, somando 10 pontos ao final;\n",
    "- O CP é em grupo, o mesmo grupo do Challenge;\n",
    "- Preencham o nome de cada membro do grupo corretamente;\n",
    "- Coloque seu código solução logo abaixo de cada questão que ele responde;\n",
    "- Use células markdown para escrever respostas que forem pedidas ou que você achar pertinentes;\n",
    "- Você pode e **deve** usar bibliotecas prontas. Ao importar uma biblioteca, comente na frente para o que ela serve;\n",
    "- Antes de submeter o jupyter no Teams, renomeie-o para **CP1-turma-NomeSobrenome.ipynb** onde **turma** deve ser trocado pela turma do grupo (H,A,J,F,G) e o NomeSobrenome trocado pelo nome e sobrenome do aluno que submeter o arquivo.\n",
    "\n",
    "### Atenção:\n",
    "Vocês podem usar trechos de códigos prontos, entretanto é pouco provável que dois grupos tenham códigos **totalmente iguais**, nas mesmas sequências com as mesmas respostas. Caso for constatada semelhança exagerada entre dois arquivos que indique **plágio**, a nota  <font color='red'> será zerada!</font>"
   ]
  },
  {
   "cell_type": "markdown",
   "metadata": {},
   "source": [
    "## Grupo [nome do grupo] Turma: J\n",
    "- **Nome:** Henrique Ferreira **RM:**\n",
    "- **Nome:** nome sobrenome **RM:**\n",
    "- **Nome:** nome sobrenome **RM:**\n",
    "- **Nome:** nome sobrenome **RM:**\n",
    "- **Nome:** nome sobrenome **RM:**\n",
    "- **Nome:** nome sobrenome **RM:**"
   ]
  },
  {
   "cell_type": "markdown",
   "metadata": {},
   "source": [
    "------------------------------"
   ]
  },
  {
   "cell_type": "markdown",
   "metadata": {},
   "source": [
    "## Fifa 2019\n",
    "\n",
    "No arquivo data_fifa2019.csv há dados de jogadores de futebol inseridos no jogo eletrônico Fifa.\n",
    "\n",
    "Vocês devem realizar aquilo que é pedido em cada Exercício.\n",
    "\n",
    "Mais informações sobre esse conjunto de dados pode ser obtida aqui [Fifa 2019](https://www.kaggle.com/karangadiya/fifa19)."
   ]
  },
  {
   "cell_type": "markdown",
   "metadata": {},
   "source": [
    "### 1) Importe as bibliotecas necessárias e carregue os dados do arquivo 'data_fifa2019.csv' em um pandas dataframe e respoda <font color='red'>(0.5 ponto)</font>:\n",
    "\n",
    "(a) Quantos jogadores existem nessa base da dados?\n",
    "\n",
    "(b) Quantos atributos de cada jogador são avaliados?\n",
    "\n",
    "(c) Quantos desses atributos são numéricos e quantos são categóricos?"
   ]
  },
  {
   "cell_type": "code",
   "execution_count": null,
   "metadata": {},
   "outputs": [],
   "source": [
    "# Coloque seu código aqui"
   ]
  },
  {
   "cell_type": "markdown",
   "metadata": {},
   "source": [
    "### 2) Faça uma função para arrumar os valoresda coluna Value dos jogadores. <font color='red'>(0.75 ponto)</font>\n",
    "\n",
    "Você deve fazer uma função que recebe uma string e converte a string para um float, que representa o valor do jogador em euros. Lembre que **K** significa 1000 e **M** significa 1000000. O símbolo de euro é **€**. Não esqueça de forçar o tipo float.\n",
    "\n",
    "Após criar a função, aplique-a a coluna de dados 'value' do seu dataframe e obtenha em uma coluna o valor de cada jogador."
   ]
  },
  {
   "cell_type": "code",
   "execution_count": null,
   "metadata": {},
   "outputs": [],
   "source": [
    "# Coloque seu código aqui"
   ]
  },
  {
   "cell_type": "markdown",
   "metadata": {},
   "source": [
    "### 3) Usando a função overall_classes, crie uma coluna denominada 'Performance' com as classes de jogadores baseado no valor da coluna 'Overall'. Gere uma distribuição (histograma) com a Performance de todos os jogadores e outra com a coluna Overall. Compare as duas. <font color='red'>(0.75 ponto)</font>"
   ]
  },
  {
   "cell_type": "code",
   "execution_count": null,
   "metadata": {},
   "outputs": [],
   "source": [
    "# Criando três classes baseado no Overall\n",
    "# A função recebe um valor e retorna uma classe categórica da performance do jogador (Low, Normal, High)\n",
    "def overall_classes(x):\n",
    "    if x < 60:\n",
    "        return 'Baixa'\n",
    "    if x < 75:\n",
    "        return 'Normal'\n",
    "    return 'Alta'"
   ]
  },
  {
   "cell_type": "code",
   "execution_count": null,
   "metadata": {},
   "outputs": [],
   "source": [
    "# Coloque seu código aqui"
   ]
  },
  {
   "cell_type": "markdown",
   "metadata": {},
   "source": [
    "### 4) Em relação a idade (Age) dos jogadores, calcule a média aritmética e a incerteza da média: <font color='red'>(1 ponto)</font>\n",
    "\n",
    "(a) Todos os jogadores\n",
    "\n",
    "(b) Jogadores de Alta Performance\n",
    "\n",
    "(c) Jogadores de Performance Normal\n",
    "\n",
    "(d) Jogadores de Baixa Performance"
   ]
  },
  {
   "cell_type": "code",
   "execution_count": null,
   "metadata": {},
   "outputs": [],
   "source": [
    "# Coloque seu código aqui"
   ]
  },
  {
   "cell_type": "markdown",
   "metadata": {},
   "source": [
    "### 5) Faça um gráfico de barras com as médias calculadas no exercício 4. Inclua as incertezas como barras de erro associadas a cada barra de valor. Você terá que olhar na documentação do matplotlib! <font color='red'>(1 ponto)</font>"
   ]
  },
  {
   "cell_type": "code",
   "execution_count": null,
   "metadata": {},
   "outputs": [],
   "source": [
    "# Coloque seu código aqui"
   ]
  },
  {
   "cell_type": "markdown",
   "metadata": {},
   "source": [
    "### 6) Repita os exerícios 4 e 5 fazendo para a coluna de valor (Value) dos jogadores. <font color='red'>(0.75 ponto)</font>"
   ]
  },
  {
   "cell_type": "code",
   "execution_count": null,
   "metadata": {},
   "outputs": [],
   "source": [
    "# Coloque seu código aqui"
   ]
  },
  {
   "cell_type": "markdown",
   "metadata": {},
   "source": [
    "### 7) Faça um gráfico boxplot da idade e do valor dos jogadores onde cada boxplot é uma classe de performance. O que você pode interepretar desse gráfico? <font color='red'>(1 ponto)</font>"
   ]
  },
  {
   "cell_type": "code",
   "execution_count": null,
   "metadata": {},
   "outputs": [],
   "source": [
    "# Coloque seu código aqui"
   ]
  },
  {
   "cell_type": "markdown",
   "metadata": {},
   "source": [
    "### 8) Faça um gráfico de dispersão entre idade e valor. Considere gerar um gráfico para todos os jogadores, e 3 gráficos para cada classe de performance. Existe algum padrão? <font color='red'>(1 ponto)</font>\n",
    "\n",
    "Dica: use o eixo de valor em escala logarítmica."
   ]
  },
  {
   "cell_type": "code",
   "execution_count": null,
   "metadata": {},
   "outputs": [],
   "source": [
    "# Coloque seu código aqui"
   ]
  },
  {
   "cell_type": "markdown",
   "metadata": {},
   "source": [
    "### 9) Em relação a nacionalidade e ao clube dos jogadores, responda: <font color='red'>(2 pontos)</font>\n",
    "\n",
    "(a) Qual é o país com o maior número de jogadores na classe de Alta Performance? E de performance Normal e Baixa?\n",
    "\n",
    "(b) Qual é o país com maior média de idadade dos jogadores? E qual é o país com menor média?\n",
    "\n",
    "(c) Qual é o clube com o maior número de jodarores na classe de Alta Performance?\n",
    "\n",
    "(d) Qual é o clube mais valioso em termos de valor de jogadores? E o menos valioso? Qual é a média e desvio padrão amostral de valor dos clubes?\n",
    "\n",
    "(e) Plote um histograma do valor dos clubes (soma do valor dos jogadores do clube); \n",
    "\n",
    "**Dica:** Use a função groupby do Pandas encadeada com funções de média, soma e contagem (mean, sum, count)."
   ]
  },
  {
   "cell_type": "code",
   "execution_count": null,
   "metadata": {},
   "outputs": [],
   "source": [
    "len(set(data['Nationality'])) # Número de paises"
   ]
  },
  {
   "cell_type": "code",
   "execution_count": null,
   "metadata": {},
   "outputs": [],
   "source": [
    "# Coloque seu código aqui"
   ]
  },
  {
   "cell_type": "markdown",
   "metadata": {},
   "source": [
    "### 10) Pergunta aberta <font color='red'>(1.25 pontos)</font>:\n",
    "\n",
    "Após analisar todos os dados, você conseguiria traçar uma estratégia de investimento para lucrar com algum time? \n",
    "\n",
    "Quais são as características dos times de alta performance?\n",
    "\n",
    "Você acha possível analisar usando apenas idade e valor, ou precisaria usar outros dados da base da dados disponível?"
   ]
  },
  {
   "cell_type": "markdown",
   "metadata": {},
   "source": [
    "*coloque sua resposta aqui*"
   ]
  }
 ],
 "metadata": {
  "kernelspec": {
   "display_name": "Python 3 (ipykernel)",
   "language": "python",
   "name": "python3"
  },
  "language_info": {
   "codemirror_mode": {
    "name": "ipython",
    "version": 3
   },
   "file_extension": ".py",
   "mimetype": "text/x-python",
   "name": "python",
   "nbconvert_exporter": "python",
   "pygments_lexer": "ipython3",
   "version": "3.9.7"
  }
 },
 "nbformat": 4,
 "nbformat_minor": 2
}
