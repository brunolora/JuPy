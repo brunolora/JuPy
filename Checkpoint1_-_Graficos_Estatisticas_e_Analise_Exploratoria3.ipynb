{
 "cells": [
  {
   "cell_type": "markdown",
   "metadata": {},
   "source": [
    "# Checkpoint 1 - Gráficos, Estatísticas e Análise Exploratória\n",
    "\n",
    "### Instruções:\n",
    "\n",
    "- Neste Jupyter Notebook há 10 questões de Análise Exploratória. Cada questão possui uma pontuação indicada em vermelho, somando 10 pontos ao final;\n",
    "- O CP é em grupo, o mesmo grupo do Challenge;\n",
    "- Preencham o nome de cada membro do grupo corretamente;\n",
    "- Coloque seu código solução logo abaixo de cada questão que ele responde;\n",
    "- Use células markdown para escrever respostas que forem pedidas ou que você achar pertinentes;\n",
    "- Você pode e **deve** usar bibliotecas prontas. Ao importar uma biblioteca, comente na frente para o que ela serve;\n",
    "- Antes de submeter o jupyter no Teams, renomeie-o para **CP1-turma-NomeSobrenome.ipynb** onde **turma** deve ser trocado pela turma do grupo (H,A,J,F,G) e o NomeSobrenome trocado pelo nome e sobrenome do aluno que submeter o arquivo.\n",
    "\n",
    "### Atenção:\n",
    "Vocês podem usar trechos de códigos prontos, entretanto é pouco provável que dois grupos tenham códigos **totalmente iguais**, nas mesmas sequências com as mesmas respostas. Caso for constatada semelhança exagerada entre dois arquivos que indique **plágio**, a nota  <font color='red'> será zerada!</font>"
   ]
  },
  {
   "cell_type": "markdown",
   "metadata": {},
   "source": [
    "## Grupo [nome do grupo] Turma: H\n",
    "- **Nome:** Bruno Lora **RM:89321**\n",
    "- **Nome:** Matheus Meneguim **RM:88123**\n",
    "- **Nome:** Pedro Leite **RM:86940**"
   ]
  },
  {
   "cell_type": "markdown",
   "metadata": {},
   "source": [
    "------------------------------"
   ]
  },
  {
   "cell_type": "markdown",
   "metadata": {},
   "source": [
    "## Fifa 2019\n",
    "\n",
    "No arquivo data_fifa2019.csv há dados de jogadores de futebol inseridos no jogo eletrônico Fifa.\n",
    "\n",
    "Vocês devem realizar aquilo que é pedido em cada Exercício.\n",
    "\n",
    "Mais informações sobre esse conjunto de dados pode ser obtida aqui [Fifa 2019](https://www.kaggle.com/karangadiya/fifa19)."
   ]
  },
  {
   "cell_type": "markdown",
   "metadata": {},
   "source": [
    "### 1) Importe as bibliotecas necessárias e carregue os dados do arquivo 'data_fifa2019.csv' em um pandas dataframe e respoda <font color='red'>(0.5 ponto)</font>:\n",
    "\n",
    "(a) Quantos jogadores existem nessa base da dados?\n",
    "\n",
    "(b) Quantos atributos de cada jogador são avaliados?\n",
    "\n",
    "(c) Quantos desses atributos são numéricos e quantos são categóricos?"
   ]
  },
  {
   "cell_type": "code",
   "execution_count": 63,
   "metadata": {},
   "outputs": [],
   "source": [
    "import pandas as pd"
   ]
  },
  {
   "cell_type": "code",
   "execution_count": 64,
   "metadata": {},
   "outputs": [],
   "source": [
    "import statistics"
   ]
  },
  {
   "cell_type": "code",
   "execution_count": 65,
   "metadata": {},
   "outputs": [
    {
     "ename": "ModuleNotFoundError",
     "evalue": "No module named 'matplotlib'",
     "output_type": "error",
     "traceback": [
      "\u001b[1;31m---------------------------------------------------------------------------\u001b[0m",
      "\u001b[1;31mModuleNotFoundError\u001b[0m                       Traceback (most recent call last)",
      "\u001b[1;32m~\\AppData\\Local\\Temp/ipykernel_11052/1979812861.py\u001b[0m in \u001b[0;36m<module>\u001b[1;34m\u001b[0m\n\u001b[1;32m----> 1\u001b[1;33m \u001b[1;32mimport\u001b[0m \u001b[0mmatplotlib\u001b[0m\u001b[1;33m.\u001b[0m\u001b[0mpyplot\u001b[0m \u001b[1;32mas\u001b[0m \u001b[0mplt\u001b[0m  \u001b[1;31m# Para trabalhar com gráficos\u001b[0m\u001b[1;33m\u001b[0m\u001b[1;33m\u001b[0m\u001b[0m\n\u001b[0m\u001b[0;32m      2\u001b[0m \u001b[1;32mimport\u001b[0m \u001b[0mseaborn\u001b[0m \u001b[1;32mas\u001b[0m \u001b[0msns\u001b[0m\u001b[1;33m\u001b[0m\u001b[1;33m\u001b[0m\u001b[0m\n",
      "\u001b[1;31mModuleNotFoundError\u001b[0m: No module named 'matplotlib'"
     ]
    }
   ],
   "source": [
    "import matplotlib.pyplot as plt  # Para trabalhar com gráficos\n",
    "import seaborn as sns"
   ]
  },
  {
   "cell_type": "code",
   "execution_count": 66,
   "metadata": {},
   "outputs": [],
   "source": [
    "dados = pd.read_csv('data_fifa2019.csv',sep=',')"
   ]
  },
  {
   "cell_type": "code",
   "execution_count": 67,
   "metadata": {},
   "outputs": [
    {
     "name": "stdout",
     "output_type": "stream",
     "text": [
      "(a) Quantos jogadores existem nessa base da dados?\n",
      "(b) Quantos atributos de cada jogador são avaliados?\n",
      "\n",
      "Numero de jogadores na tabela:  18207 linhas\n",
      "Numero de atributos na tabela:  89 colunas\n",
      "\n",
      "(c) Quantos desses atributos são numéricos e quantos são categóricos? \n",
      "\n",
      "Numero de atributos numericos:  44 colunas\n",
      "Numero de atributos categoricos:  45 colunas\n"
     ]
    }
   ],
   "source": [
    "#o numero de linhas equivale ao numero de jogadores\n",
    "linhas = len(dados)\n",
    "\n",
    "print('(a) Quantos jogadores existem nessa base da dados?')\n",
    "print('(b) Quantos atributos de cada jogador são avaliados?\\n')\n",
    "print('Numero de jogadores na tabela: ',linhas,'linhas')\n",
    "\n",
    "#o numero de colunas equivale ao numero de atributos\n",
    "colunas = (len(dados.columns))\n",
    "print('Numero de atributos na tabela: ',colunas,'colunas')\n",
    "\n",
    "\n",
    "#converte os dados para dtypes, melhor selecao dos valores\n",
    "dados_convertidos = dados.convert_dtypes()\n",
    "\n",
    "#print dos dados convertidos\n",
    "#dt=(dados_convertidos.dtypes)\n",
    "#print(dt)\n",
    "\n",
    "print('\\n(c) Quantos desses atributos são numéricos e quantos são categóricos? \\n')\n",
    "#pega os valores Int64 e Float64 dentro dos dados convertidos\n",
    "numeros_tabela = (dados_convertidos.select_dtypes(include=['Int64']))\n",
    "\n",
    "#pega valores que nao sao considerados Int64 dos dados convertidos\n",
    "nao_numeros_tabela = (dados_convertidos.select_dtypes(exclude=['Int64']))\n",
    "\n",
    "#printa o numero de colunas em numeros_tabela\n",
    "atributos_numericos = len(numeros_tabela.columns)\n",
    "print('Numero de atributos numericos: ',atributos_numericos,'colunas')\n",
    "\n",
    "#printa o numero de colunas em nao numeros tabela\n",
    "atributos_nao_numericos = len(nao_numeros_tabela.columns)\n",
    "print('Numero de atributos categoricos: ',atributos_nao_numericos,'colunas')"
   ]
  },
  {
   "cell_type": "markdown",
   "metadata": {},
   "source": [
    "####  a)O número de jogadores nessa base de dados é 18207 jogadores.\n",
    "\n",
    "####  b)O número de atributos para cada jogador é 89 atributos\n",
    "\n",
    "####  c)45 desses atributos são categóricos e 44 são numéricos"
   ]
  },
  {
   "cell_type": "markdown",
   "metadata": {},
   "source": [
    "### 2) Faça uma função para arrumar os valores da coluna Value dos jogadores. <font color='red'>(0.75 ponto)</font>\n",
    "\n",
    "Você deve fazer uma função que recebe uma string e converte a string para um float, que representa o valor do jogador em euros. Lembre que **K** significa 1000 e **M** significa 1000000. O símbolo de euro é **€**. Não esqueça de forçar o tipo float.\n",
    "\n",
    "Após criar a função, aplique-a a coluna de dados 'value' do seu dataframe e obtenha em uma coluna o valor de cada jogador."
   ]
  },
  {
   "cell_type": "code",
   "execution_count": 12,
   "metadata": {},
   "outputs": [],
   "source": [
    "def arrumar_value(x):\n",
    "    dados_str = x\n",
    "    value_float = float(dados_str)\n",
    "    return value_float"
   ]
  },
  {
   "cell_type": "code",
   "execution_count": 13,
   "metadata": {},
   "outputs": [],
   "source": [
    "nome = dados['Value'].apply(lambda x: str(x.replace(\"€\",\"\")))"
   ]
  },
  {
   "cell_type": "code",
   "execution_count": 14,
   "metadata": {},
   "outputs": [
    {
     "ename": "ValueError",
     "evalue": "could not convert string to float: '€110.5M'",
     "output_type": "error",
     "traceback": [
      "\u001b[1;31m---------------------------------------------------------------------------\u001b[0m",
      "\u001b[1;31mValueError\u001b[0m                                Traceback (most recent call last)",
      "\u001b[1;32m~\\AppData\\Local\\Temp/ipykernel_11052/2653756916.py\u001b[0m in \u001b[0;36m<module>\u001b[1;34m\u001b[0m\n\u001b[1;32m----> 1\u001b[1;33m \u001b[0mdados\u001b[0m\u001b[1;33m[\u001b[0m\u001b[1;34m'Value'\u001b[0m\u001b[1;33m]\u001b[0m \u001b[1;33m=\u001b[0m \u001b[0mdados\u001b[0m\u001b[1;33m[\u001b[0m\u001b[1;34m'Value'\u001b[0m\u001b[1;33m]\u001b[0m\u001b[1;33m.\u001b[0m\u001b[0mapply\u001b[0m\u001b[1;33m(\u001b[0m\u001b[0marrumar_value\u001b[0m\u001b[1;33m)\u001b[0m\u001b[1;33m\u001b[0m\u001b[1;33m\u001b[0m\u001b[0m\n\u001b[0m",
      "\u001b[1;32m~\\AppData\\Local\\Programs\\Python\\Python39\\lib\\site-packages\\pandas\\core\\series.py\u001b[0m in \u001b[0;36mapply\u001b[1;34m(self, func, convert_dtype, args, **kwargs)\u001b[0m\n\u001b[0;32m   4355\u001b[0m         \u001b[0mdtype\u001b[0m\u001b[1;33m:\u001b[0m \u001b[0mfloat64\u001b[0m\u001b[1;33m\u001b[0m\u001b[1;33m\u001b[0m\u001b[0m\n\u001b[0;32m   4356\u001b[0m         \"\"\"\n\u001b[1;32m-> 4357\u001b[1;33m         \u001b[1;32mreturn\u001b[0m \u001b[0mSeriesApply\u001b[0m\u001b[1;33m(\u001b[0m\u001b[0mself\u001b[0m\u001b[1;33m,\u001b[0m \u001b[0mfunc\u001b[0m\u001b[1;33m,\u001b[0m \u001b[0mconvert_dtype\u001b[0m\u001b[1;33m,\u001b[0m \u001b[0margs\u001b[0m\u001b[1;33m,\u001b[0m \u001b[0mkwargs\u001b[0m\u001b[1;33m)\u001b[0m\u001b[1;33m.\u001b[0m\u001b[0mapply\u001b[0m\u001b[1;33m(\u001b[0m\u001b[1;33m)\u001b[0m\u001b[1;33m\u001b[0m\u001b[1;33m\u001b[0m\u001b[0m\n\u001b[0m\u001b[0;32m   4358\u001b[0m \u001b[1;33m\u001b[0m\u001b[0m\n\u001b[0;32m   4359\u001b[0m     def _reduce(\n",
      "\u001b[1;32m~\\AppData\\Local\\Programs\\Python\\Python39\\lib\\site-packages\\pandas\\core\\apply.py\u001b[0m in \u001b[0;36mapply\u001b[1;34m(self)\u001b[0m\n\u001b[0;32m   1041\u001b[0m             \u001b[1;32mreturn\u001b[0m \u001b[0mself\u001b[0m\u001b[1;33m.\u001b[0m\u001b[0mapply_str\u001b[0m\u001b[1;33m(\u001b[0m\u001b[1;33m)\u001b[0m\u001b[1;33m\u001b[0m\u001b[1;33m\u001b[0m\u001b[0m\n\u001b[0;32m   1042\u001b[0m \u001b[1;33m\u001b[0m\u001b[0m\n\u001b[1;32m-> 1043\u001b[1;33m         \u001b[1;32mreturn\u001b[0m \u001b[0mself\u001b[0m\u001b[1;33m.\u001b[0m\u001b[0mapply_standard\u001b[0m\u001b[1;33m(\u001b[0m\u001b[1;33m)\u001b[0m\u001b[1;33m\u001b[0m\u001b[1;33m\u001b[0m\u001b[0m\n\u001b[0m\u001b[0;32m   1044\u001b[0m \u001b[1;33m\u001b[0m\u001b[0m\n\u001b[0;32m   1045\u001b[0m     \u001b[1;32mdef\u001b[0m \u001b[0magg\u001b[0m\u001b[1;33m(\u001b[0m\u001b[0mself\u001b[0m\u001b[1;33m)\u001b[0m\u001b[1;33m:\u001b[0m\u001b[1;33m\u001b[0m\u001b[1;33m\u001b[0m\u001b[0m\n",
      "\u001b[1;32m~\\AppData\\Local\\Programs\\Python\\Python39\\lib\\site-packages\\pandas\\core\\apply.py\u001b[0m in \u001b[0;36mapply_standard\u001b[1;34m(self)\u001b[0m\n\u001b[0;32m   1097\u001b[0m                 \u001b[1;31m# List[Union[Callable[..., Any], str]]]]]\"; expected\u001b[0m\u001b[1;33m\u001b[0m\u001b[1;33m\u001b[0m\u001b[0m\n\u001b[0;32m   1098\u001b[0m                 \u001b[1;31m# \"Callable[[Any], Any]\"\u001b[0m\u001b[1;33m\u001b[0m\u001b[1;33m\u001b[0m\u001b[0m\n\u001b[1;32m-> 1099\u001b[1;33m                 mapped = lib.map_infer(\n\u001b[0m\u001b[0;32m   1100\u001b[0m                     \u001b[0mvalues\u001b[0m\u001b[1;33m,\u001b[0m\u001b[1;33m\u001b[0m\u001b[1;33m\u001b[0m\u001b[0m\n\u001b[0;32m   1101\u001b[0m                     \u001b[0mf\u001b[0m\u001b[1;33m,\u001b[0m  \u001b[1;31m# type: ignore[arg-type]\u001b[0m\u001b[1;33m\u001b[0m\u001b[1;33m\u001b[0m\u001b[0m\n",
      "\u001b[1;32m~\\AppData\\Local\\Programs\\Python\\Python39\\lib\\site-packages\\pandas\\_libs\\lib.pyx\u001b[0m in \u001b[0;36mpandas._libs.lib.map_infer\u001b[1;34m()\u001b[0m\n",
      "\u001b[1;32m~\\AppData\\Local\\Temp/ipykernel_11052/266056370.py\u001b[0m in \u001b[0;36marrumar_value\u001b[1;34m(x)\u001b[0m\n\u001b[0;32m      1\u001b[0m \u001b[1;32mdef\u001b[0m \u001b[0marrumar_value\u001b[0m\u001b[1;33m(\u001b[0m\u001b[0mx\u001b[0m\u001b[1;33m)\u001b[0m\u001b[1;33m:\u001b[0m\u001b[1;33m\u001b[0m\u001b[1;33m\u001b[0m\u001b[0m\n\u001b[0;32m      2\u001b[0m     \u001b[0mdados_str\u001b[0m \u001b[1;33m=\u001b[0m \u001b[0mx\u001b[0m\u001b[1;33m\u001b[0m\u001b[1;33m\u001b[0m\u001b[0m\n\u001b[1;32m----> 3\u001b[1;33m     \u001b[0mvalue_float\u001b[0m \u001b[1;33m=\u001b[0m \u001b[0mfloat\u001b[0m\u001b[1;33m(\u001b[0m\u001b[0mdados_str\u001b[0m\u001b[1;33m)\u001b[0m\u001b[1;33m\u001b[0m\u001b[1;33m\u001b[0m\u001b[0m\n\u001b[0m\u001b[0;32m      4\u001b[0m     \u001b[1;32mreturn\u001b[0m \u001b[0mvalue_float\u001b[0m\u001b[1;33m\u001b[0m\u001b[1;33m\u001b[0m\u001b[0m\n",
      "\u001b[1;31mValueError\u001b[0m: could not convert string to float: '€110.5M'"
     ]
    }
   ],
   "source": [
    "dados['Value'] = dados['Value'].apply(arrumar_value)"
   ]
  },
  {
   "cell_type": "code",
   "execution_count": 33,
   "metadata": {},
   "outputs": [
    {
     "name": "stdout",
     "output_type": "stream",
     "text": [
      "       Unnamed: 0      ID                Name  Age  \\\n",
      "0               0  158023            L. Messi   31   \n",
      "1               1   20801   Cristiano Ronaldo   33   \n",
      "2               2  190871           Neymar Jr   26   \n",
      "3               3  193080              De Gea   27   \n",
      "4               4  192985        K. De Bruyne   27   \n",
      "...           ...     ...                 ...  ...   \n",
      "18202       18202  238813        J. Lundstram   19   \n",
      "18203       18203  243165  N. Christoffersson   19   \n",
      "18204       18204  241638           B. Worman   16   \n",
      "18205       18205  246268      D. Walker-Rice   17   \n",
      "18206       18206  246269           G. Nugent   16   \n",
      "\n",
      "                                                Photo Nationality  \\\n",
      "0      https://cdn.sofifa.org/players/4/19/158023.png   Argentina   \n",
      "1       https://cdn.sofifa.org/players/4/19/20801.png    Portugal   \n",
      "2      https://cdn.sofifa.org/players/4/19/190871.png      Brazil   \n",
      "3      https://cdn.sofifa.org/players/4/19/193080.png       Spain   \n",
      "4      https://cdn.sofifa.org/players/4/19/192985.png     Belgium   \n",
      "...                                               ...         ...   \n",
      "18202  https://cdn.sofifa.org/players/4/19/238813.png     England   \n",
      "18203  https://cdn.sofifa.org/players/4/19/243165.png      Sweden   \n",
      "18204  https://cdn.sofifa.org/players/4/19/241638.png     England   \n",
      "18205  https://cdn.sofifa.org/players/4/19/246268.png     England   \n",
      "18206  https://cdn.sofifa.org/players/4/19/246269.png     England   \n",
      "\n",
      "                                      Flag  Overall  Potential  \\\n",
      "0      https://cdn.sofifa.org/flags/52.png       94         94   \n",
      "1      https://cdn.sofifa.org/flags/38.png       94         94   \n",
      "2      https://cdn.sofifa.org/flags/54.png       92         93   \n",
      "3      https://cdn.sofifa.org/flags/45.png       91         93   \n",
      "4       https://cdn.sofifa.org/flags/7.png       91         92   \n",
      "...                                    ...      ...        ...   \n",
      "18202  https://cdn.sofifa.org/flags/14.png       47         65   \n",
      "18203  https://cdn.sofifa.org/flags/46.png       47         63   \n",
      "18204  https://cdn.sofifa.org/flags/14.png       47         67   \n",
      "18205  https://cdn.sofifa.org/flags/14.png       47         66   \n",
      "18206  https://cdn.sofifa.org/flags/14.png       46         66   \n",
      "\n",
      "                      Club  ... Composure Marking StandingTackle  \\\n",
      "0             FC Barcelona  ...      96.0    33.0           28.0   \n",
      "1                 Juventus  ...      95.0    28.0           31.0   \n",
      "2      Paris Saint-Germain  ...      94.0    27.0           24.0   \n",
      "3        Manchester United  ...      68.0    15.0           21.0   \n",
      "4          Manchester City  ...      88.0    68.0           58.0   \n",
      "...                    ...  ...       ...     ...            ...   \n",
      "18202      Crewe Alexandra  ...      45.0    40.0           48.0   \n",
      "18203       Trelleborgs FF  ...      42.0    22.0           15.0   \n",
      "18204     Cambridge United  ...      41.0    32.0           13.0   \n",
      "18205      Tranmere Rovers  ...      46.0    20.0           25.0   \n",
      "18206      Tranmere Rovers  ...      43.0    40.0           43.0   \n",
      "\n",
      "       SlidingTackle GKDiving  GKHandling  GKKicking  GKPositioning  \\\n",
      "0               26.0      6.0        11.0       15.0           14.0   \n",
      "1               23.0      7.0        11.0       15.0           14.0   \n",
      "2               33.0      9.0         9.0       15.0           15.0   \n",
      "3               13.0     90.0        85.0       87.0           88.0   \n",
      "4               51.0     15.0        13.0        5.0           10.0   \n",
      "...              ...      ...         ...        ...            ...   \n",
      "18202           47.0     10.0        13.0        7.0            8.0   \n",
      "18203           19.0     10.0         9.0        9.0            5.0   \n",
      "18204           11.0      6.0         5.0       10.0            6.0   \n",
      "18205           27.0     14.0         6.0       14.0            8.0   \n",
      "18206           50.0     10.0        15.0        9.0           12.0   \n",
      "\n",
      "      GKReflexes Release Clause  \n",
      "0            8.0        €226.5M  \n",
      "1           11.0        €127.1M  \n",
      "2           11.0        €228.1M  \n",
      "3           94.0        €138.6M  \n",
      "4           13.0        €196.4M  \n",
      "...          ...            ...  \n",
      "18202        9.0          €143K  \n",
      "18203       12.0          €113K  \n",
      "18204       13.0          €165K  \n",
      "18205        9.0          €143K  \n",
      "18206        9.0          €165K  \n",
      "\n",
      "[18207 rows x 89 columns]\n"
     ]
    }
   ],
   "source": [
    "print(dados)"
   ]
  },
  {
   "cell_type": "markdown",
   "metadata": {},
   "source": [
    "### 3) Usando a função overall_classes, crie uma coluna denominada 'Performance' com as classes de jogadores baseado no valor da coluna 'Overall'. Gere uma distribuição (histograma) com a Performance de todos os jogadores e outra com a coluna Overall. Compare as duas. <font color='red'>(0.75 ponto)</font>"
   ]
  },
  {
   "cell_type": "code",
   "execution_count": 15,
   "metadata": {},
   "outputs": [],
   "source": [
    "# Criando três classes baseado no Overall\n",
    "# A função recebe um valor e retorna uma classe categórica da performance do jogador (Low, Normal, High)\n",
    "def overall_classes(x):\n",
    "    if x < 60:\n",
    "        return 'Baixa'\n",
    "    if x < 75:\n",
    "        return 'Normal'\n",
    "    return 'Alta'"
   ]
  },
  {
   "cell_type": "code",
   "execution_count": 16,
   "metadata": {},
   "outputs": [],
   "source": [
    "dados['Performance'] = dados['Overall'].apply(overall_classes)"
   ]
  },
  {
   "cell_type": "code",
   "execution_count": 17,
   "metadata": {},
   "outputs": [
    {
     "ename": "NameError",
     "evalue": "name 'plt' is not defined",
     "output_type": "error",
     "traceback": [
      "\u001b[1;31m---------------------------------------------------------------------------\u001b[0m",
      "\u001b[1;31mNameError\u001b[0m                                 Traceback (most recent call last)",
      "\u001b[1;32m~\\AppData\\Local\\Temp/ipykernel_11052/3257637030.py\u001b[0m in \u001b[0;36m<module>\u001b[1;34m\u001b[0m\n\u001b[1;32m----> 1\u001b[1;33m \u001b[0mfig\u001b[0m\u001b[1;33m,\u001b[0m \u001b[0maxes\u001b[0m \u001b[1;33m=\u001b[0m \u001b[0mplt\u001b[0m\u001b[1;33m.\u001b[0m\u001b[0msubplots\u001b[0m\u001b[1;33m(\u001b[0m\u001b[1;36m1\u001b[0m\u001b[1;33m,\u001b[0m \u001b[1;36m2\u001b[0m\u001b[1;33m,\u001b[0m \u001b[0mfigsize\u001b[0m\u001b[1;33m=\u001b[0m\u001b[1;33m(\u001b[0m\u001b[1;36m10\u001b[0m\u001b[1;33m,\u001b[0m \u001b[1;36m4\u001b[0m\u001b[1;33m)\u001b[0m\u001b[1;33m)\u001b[0m\u001b[1;33m\u001b[0m\u001b[1;33m\u001b[0m\u001b[0m\n\u001b[0m\u001b[0;32m      2\u001b[0m \u001b[0mfig\u001b[0m\u001b[1;33m.\u001b[0m\u001b[0msuptitle\u001b[0m\u001b[1;33m(\u001b[0m\u001b[1;34m'Dados de Performance e Overall'\u001b[0m\u001b[1;33m)\u001b[0m\u001b[1;33m\u001b[0m\u001b[1;33m\u001b[0m\u001b[0m\n\u001b[0;32m      3\u001b[0m \u001b[1;33m\u001b[0m\u001b[0m\n\u001b[0;32m      4\u001b[0m \u001b[1;33m\u001b[0m\u001b[0m\n\u001b[0;32m      5\u001b[0m sns.histplot(ax=axes[0],\n",
      "\u001b[1;31mNameError\u001b[0m: name 'plt' is not defined"
     ]
    }
   ],
   "source": [
    "fig, axes = plt.subplots(1, 2, figsize=(10, 4))\n",
    "fig.suptitle('Dados de Performance e Overall')\n",
    "\n",
    "\n",
    "sns.histplot(ax=axes[0],\n",
    "            data=dados['Overall'],\n",
    "            kde=True,\n",
    "            bins=10,\n",
    "            linewidth=0.7,\n",
    "            )\n",
    "\n",
    "sns.histplot(ax=axes[1],\n",
    "            data=dados['Performance'],\n",
    "            kde=True,\n",
    "            bins=10,\n",
    "            linewidth=0.7,\n",
    "            )\n",
    "\n",
    "axes[0].set(xlabel='Overall', ylabel='Jogadores')\n",
    "axes[1].set(xlabel='Performance', ylabel='Jogadores')"
   ]
  },
  {
   "cell_type": "markdown",
   "metadata": {},
   "source": [
    "####  Resposta: A comparação dos dois histogramas demonstra que eles indicam o mesmo resultado, sendo que uma parte significativa dos atletas tem uma performance normal e tem um Overall entre 60 e 75. Já as outras são menos significativas, sendo que poucos atletas estão acima ou abaixo da média."
   ]
  },
  {
   "cell_type": "markdown",
   "metadata": {},
   "source": [
    "### 4) Em relação a idade (Age) dos jogadores, calcule a média aritmética e a incerteza da média: <font color='red'>(1 ponto)</font>\n",
    "\n",
    "(a) Todos os jogadores\n",
    "\n",
    "(b) Jogadores de Alta Performance\n",
    "\n",
    "(c) Jogadores de Performance Normal\n",
    "\n",
    "(d) Jogadores de Baixa Performance"
   ]
  },
  {
   "cell_type": "code",
   "execution_count": 18,
   "metadata": {},
   "outputs": [
    {
     "name": "stdout",
     "output_type": "stream",
     "text": [
      "(a) Todos os jogadores: \n",
      "\n",
      "Media das ages, todos os jogadores: 25.12\n",
      "Incerteza da media, todos os jogadores 0.03460926732466789 \n",
      "\n",
      "(b) Jogadores de Alta Performance:\n",
      "\n",
      "Media das ages, jogadores de Alta Performance: 27.244197292069632\n",
      "Incerteza da media, jogadores Alta Performance: 0.08488710046240193 \n",
      "\n",
      "(c) Jogadores de Performance Normal:\n",
      "\n",
      "Media das ages, jogadores de Performance Normal: 25.73146958821307\n",
      "Incerteza da media, jogadores Performance Normal: 0.03861406249112684 \n",
      "\n",
      "(d) Jogadores de Baixa Performance:\n",
      "\n",
      "Media das ages, jogadores de Performance Baixa: 20.834366391184574\n",
      "Incerteza da media, jogadores Performance Normal: 0.06666424402621199 \n",
      "\n"
     ]
    }
   ],
   "source": [
    "# Variavel recebe todos as age dos jogadores\n",
    "age = (dados['Age'])\n",
    "#performance dos jogadores\n",
    "performance = (dados['Performance'])\n",
    "\n",
    "print('(a) Todos os jogadores: \\n')\n",
    "#media aritmetica da Age de todos os jogadores\n",
    "media_todos = round(age.sum()/len(age), 2)\n",
    "print('Media das ages, todos os jogadores:',media_todos)\n",
    "\n",
    "# incerteza da media de todos os jogadores\n",
    "N = len(age)\n",
    "media = media_todos\n",
    "\n",
    "soma=0\n",
    "for xi in age:\n",
    "    soma = soma+(xi-media)**2\n",
    "incerteza_todos = (soma/(N*(N-1)))**(1/2)\n",
    "print('Incerteza da media, todos os jogadores',incerteza_todos, '\\n')\n",
    "\n",
    "\n",
    "\n",
    "print('(b) Jogadores de Alta Performance:\\n')\n",
    "#pega os jogadores de Alta Performance\n",
    "performance_alta = dados[performance.str.contains('Alta')]\n",
    "\n",
    "#pega Age dos jogadores com alta performance\n",
    "age_perf_alta = (performance_alta['Age'])\n",
    "\n",
    "#media aritmetica da Age dos jogadores de Alta Performance\n",
    "media_AltaP = age_perf_alta.sum() / len(age_perf_alta)\n",
    "print('Media das ages, jogadores de Alta Performance:', media_AltaP)\n",
    "\n",
    "#incerteza da media dos jogadores de Alta performance\n",
    "N = len(age_perf_alta)\n",
    "media = media_AltaP\n",
    "\n",
    "soma=0\n",
    "for xi in age_perf_alta:\n",
    "    soma = soma+(xi-media)**2\n",
    "incerteza_AltaP = (soma/(N*(N-1)))**(1/2)\n",
    "print('Incerteza da media, jogadores Alta Performance:',incerteza_AltaP, '\\n')\n",
    "\n",
    "\n",
    "\n",
    "print('(c) Jogadores de Performance Normal:\\n')\n",
    "#pega os jogadores de Performance Normal\n",
    "performance_normal = dados[performance.str.contains('Normal')]\n",
    "\n",
    "#pega Age dos jogadores com Performance Normal\n",
    "age_perf_normal = (performance_normal['Age'])\n",
    "\n",
    "#media aritmetica da Age dos jogadores de Performance Normal\n",
    "media_PNormal = age_perf_normal.sum() / len(age_perf_normal)\n",
    "print('Media das ages, jogadores de Performance Normal:', media_PNormal)\n",
    "\n",
    "#incerteza da media dos jogadores de Performance Normal\n",
    "N = len(age_perf_normal)\n",
    "media = media_PNormal\n",
    "\n",
    "soma=0\n",
    "for xi in age_perf_normal:\n",
    "    soma = soma+(xi-media)**2\n",
    "incerteza_PNormal = (soma/(N*(N-1)))**(1/2)\n",
    "print('Incerteza da media, jogadores Performance Normal:',incerteza_PNormal, '\\n')\n",
    "\n",
    "\n",
    "print('(d) Jogadores de Baixa Performance:\\n')\n",
    "#pega os jogadores de Performance Baixa\n",
    "performance_baixa = dados[performance.str.contains('Baixa')]\n",
    "\n",
    "#pega Age dos jogadores com Performance Baixa\n",
    "age_perf_baixa = (performance_baixa['Age'])\n",
    "\n",
    "#media aritmetica da Age dos jogadores de Performance Baixa\n",
    "media_PBaixa = age_perf_baixa.sum() / len(age_perf_baixa)\n",
    "print('Media das ages, jogadores de Performance Baixa:', media_PBaixa)\n",
    "\n",
    "#incerteza da media dos jogadores de Performance Baixa\n",
    "N = len(age_perf_baixa)\n",
    "media = media_PBaixa\n",
    "\n",
    "soma=0\n",
    "for xi in age_perf_baixa:\n",
    "    soma = soma+(xi-media)**2\n",
    "incerteza_PBaixa = (soma/(N*(N-1)))**(1/2)\n",
    "print('Incerteza da media, jogadores Performance Normal:',incerteza_PBaixa, '\\n')\n"
   ]
  },
  {
   "cell_type": "markdown",
   "metadata": {},
   "source": [
    "### 5) Faça um gráfico de barras com as médias calculadas no exercício 4. Inclua as incertezas como barras de erro associadas a cada barra de valor. Você terá que olhar na documentação do matplotlib! <font color='red'>(1 ponto)</font>"
   ]
  },
  {
   "cell_type": "code",
   "execution_count": 19,
   "metadata": {},
   "outputs": [
    {
     "ename": "NameError",
     "evalue": "name 'plt' is not defined",
     "output_type": "error",
     "traceback": [
      "\u001b[1;31m---------------------------------------------------------------------------\u001b[0m",
      "\u001b[1;31mNameError\u001b[0m                                 Traceback (most recent call last)",
      "\u001b[1;32m~\\AppData\\Local\\Temp/ipykernel_11052/198083399.py\u001b[0m in \u001b[0;36m<module>\u001b[1;34m\u001b[0m\n\u001b[0;32m      5\u001b[0m \u001b[1;33m\u001b[0m\u001b[0m\n\u001b[0;32m      6\u001b[0m \u001b[1;31m#Inserindo os valores anteriores para o plt.bar\u001b[0m\u001b[1;33m\u001b[0m\u001b[1;33m\u001b[0m\u001b[0m\n\u001b[1;32m----> 7\u001b[1;33m \u001b[0mplt\u001b[0m\u001b[1;33m.\u001b[0m\u001b[0mbar\u001b[0m\u001b[1;33m=\u001b[0m\u001b[1;33m(\u001b[0m\u001b[0mmedias_gerais\u001b[0m\u001b[1;33m,\u001b[0m \u001b[0mvalores_gerais\u001b[0m\u001b[1;33m)\u001b[0m\u001b[1;33m\u001b[0m\u001b[1;33m\u001b[0m\u001b[0m\n\u001b[0m\u001b[0;32m      8\u001b[0m \u001b[1;33m\u001b[0m\u001b[0m\n\u001b[0;32m      9\u001b[0m \u001b[1;31m#criando uma figure, axes, alterando tamanho\u001b[0m\u001b[1;33m\u001b[0m\u001b[1;33m\u001b[0m\u001b[0m\n",
      "\u001b[1;31mNameError\u001b[0m: name 'plt' is not defined"
     ]
    }
   ],
   "source": [
    "#valores das medias - eixo X\n",
    "medias_gerais = ['Geral', 'Alta', 'Normal', 'Baixa']\n",
    "#nomes das colunas - eixo Y\n",
    "valores_gerais = [media_todos, media_AltaP, media_PNormal, media_PBaixa]\n",
    "\n",
    "#Inserindo os valores anteriores para o plt.bar\n",
    "plt.bar=(medias_gerais, valores_gerais)\n",
    "\n",
    "#criando uma figure, axes, alterando tamanho\n",
    "fig, ax = plt.subplots(figsize=(5,6))\n",
    "\n",
    "#criando o gráfico de barras\n",
    "sns.barplot(x=medias_gerais, y=valores_gerais, ax=ax, data=dados, palette='RdPu')\n",
    "\n",
    "#adicionando título\n",
    "ax.set_title(\"Media Rendimento X Performance Jogadores\", fontdict={'fontsize':15})\n",
    "\n",
    "#mudando nome e tamanho do label x\n",
    "ax.set_xlabel('Performance dos jogadores', fontdict={'fontsize':14})\n",
    "\n",
    "#mudando nome e tamanho do label y\n",
    "ax.set_ylabel('Media de Rendimentos', fontdict={'fontsize':14})\n",
    "\n",
    "#mudando tamanho dos labels dos ticks\n",
    "ax.tick_params(labelsize=14)\n",
    "\n",
    "#otimizar espaço da figure\n",
    "fig.tight_layout();\n",
    "\n",
    "\n",
    "#valor das incertezas\n",
    "valor_incertezas = [incerteza_todos, incerteza_AltaP, incerteza_PNormal, incerteza_PBaixa]\n",
    "#nome das incertezas\n",
    "nome_incertezas = ['Geral', 'Alta', 'PNormal', 'PBaixa']\n",
    "\n",
    "#inserindo os valores anteriores para o plt.errorbar\n",
    "plt.errorbar(medias_gerais, valores_gerais, yerr = valor_incertezas)"
   ]
  },
  {
   "cell_type": "markdown",
   "metadata": {},
   "source": [
    "### 6) Repita os exerícios 4 e 5 fazendo para a coluna de valor (Value) dos jogadores. <font color='red'>(0.75 ponto)</font>"
   ]
  },
  {
   "cell_type": "code",
   "execution_count": 20,
   "metadata": {},
   "outputs": [],
   "source": [
    "# Coloque seu código aqui"
   ]
  },
  {
   "cell_type": "markdown",
   "metadata": {},
   "source": [
    "### 7) Faça um gráfico boxplot da idade e do valor dos jogadores onde cada boxplot é uma classe de performance. O que você pode interepretar desse gráfico? <font color='red'>(1 ponto)</font>\n"
   ]
  },
  {
   "cell_type": "code",
   "execution_count": 21,
   "metadata": {
    "scrolled": false
   },
   "outputs": [
    {
     "ename": "NameError",
     "evalue": "name 'plt' is not defined",
     "output_type": "error",
     "traceback": [
      "\u001b[1;31m---------------------------------------------------------------------------\u001b[0m",
      "\u001b[1;31mNameError\u001b[0m                                 Traceback (most recent call last)",
      "\u001b[1;32m~\\AppData\\Local\\Temp/ipykernel_11052/1219264483.py\u001b[0m in \u001b[0;36m<module>\u001b[1;34m\u001b[0m\n\u001b[1;32m----> 1\u001b[1;33m \u001b[0mfig\u001b[0m\u001b[1;33m,\u001b[0m \u001b[0maxes\u001b[0m \u001b[1;33m=\u001b[0m \u001b[0mplt\u001b[0m\u001b[1;33m.\u001b[0m\u001b[0msubplots\u001b[0m\u001b[1;33m(\u001b[0m\u001b[1;36m1\u001b[0m\u001b[1;33m,\u001b[0m \u001b[1;36m2\u001b[0m\u001b[1;33m,\u001b[0m \u001b[0mfigsize\u001b[0m\u001b[1;33m=\u001b[0m\u001b[1;33m(\u001b[0m\u001b[1;36m15\u001b[0m\u001b[1;33m,\u001b[0m \u001b[1;36m80\u001b[0m\u001b[1;33m)\u001b[0m\u001b[1;33m)\u001b[0m\u001b[1;33m\u001b[0m\u001b[1;33m\u001b[0m\u001b[0m\n\u001b[0m\u001b[0;32m      2\u001b[0m \u001b[0mfig\u001b[0m\u001b[1;33m.\u001b[0m\u001b[0msuptitle\u001b[0m\u001b[1;33m(\u001b[0m\u001b[1;34m'Dados dos Atletas'\u001b[0m\u001b[1;33m)\u001b[0m\u001b[1;33m\u001b[0m\u001b[1;33m\u001b[0m\u001b[0m\n\u001b[0;32m      3\u001b[0m \u001b[1;33m\u001b[0m\u001b[0m\n\u001b[0;32m      4\u001b[0m sns.boxplot(x=\"Age\", y=\"Value\",hue=\"Performance\",\n\u001b[0;32m      5\u001b[0m             \u001b[0mpalette\u001b[0m\u001b[1;33m=\u001b[0m\u001b[1;33m[\u001b[0m\u001b[1;34m\"g\"\u001b[0m\u001b[1;33m,\u001b[0m\u001b[1;34m\"r\"\u001b[0m\u001b[1;33m,\u001b[0m\u001b[1;34m\"b\"\u001b[0m\u001b[1;33m]\u001b[0m\u001b[1;33m,\u001b[0m\u001b[1;33m\u001b[0m\u001b[1;33m\u001b[0m\u001b[0m\n",
      "\u001b[1;31mNameError\u001b[0m: name 'plt' is not defined"
     ]
    }
   ],
   "source": [
    "fig, axes = plt.subplots(1, 2, figsize=(15, 80))\n",
    "fig.suptitle('Dados dos Atletas')\n",
    "\n",
    "sns.boxplot(x=\"Age\", y=\"Value\",hue=\"Performance\",\n",
    "            palette=[\"g\",\"r\",\"b\"],\n",
    "            linewidth=0.9,\n",
    "            ax=axes[0],\n",
    "            data=dados\n",
    "           )\n"
   ]
  },
  {
   "cell_type": "markdown",
   "metadata": {},
   "source": [
    "####  Resposta: É possível interpretar pelo gráfico que o valor dos jogadores está diretamente relacionado com a performance. A idade pode afetar a performance mas isso é mais observado nos jogadores mais novos que, geralmente tem uma performance \"baixa\".\n"
   ]
  },
  {
   "cell_type": "markdown",
   "metadata": {},
   "source": [
    "### 8) Faça um gráfico de dispersão entre idade e valor. Considere gerar um gráfico para todos os jogadores, e 3 gráficos para cada classe de performance. Existe algum padrão? <font color='red'>(1 ponto)</font>\n",
    "\n",
    "Dica: use o eixo de valor em escala logarítmica."
   ]
  },
  {
   "cell_type": "code",
   "execution_count": 22,
   "metadata": {},
   "outputs": [
    {
     "ename": "NameError",
     "evalue": "name 'sns' is not defined",
     "output_type": "error",
     "traceback": [
      "\u001b[1;31m---------------------------------------------------------------------------\u001b[0m",
      "\u001b[1;31mNameError\u001b[0m                                 Traceback (most recent call last)",
      "\u001b[1;32m~\\AppData\\Local\\Temp/ipykernel_11052/97743606.py\u001b[0m in \u001b[0;36m<module>\u001b[1;34m\u001b[0m\n\u001b[1;32m----> 1\u001b[1;33m sns.jointplot(data=dados,x=\"Age\", y=\"Value\",\n\u001b[0m\u001b[0;32m      2\u001b[0m               \u001b[0mheight\u001b[0m\u001b[1;33m=\u001b[0m\u001b[1;36m30\u001b[0m\u001b[1;33m,\u001b[0m\u001b[1;33m\u001b[0m\u001b[1;33m\u001b[0m\u001b[0m\n\u001b[0;32m      3\u001b[0m               \u001b[0mratio\u001b[0m\u001b[1;33m=\u001b[0m\u001b[1;36m2\u001b[0m\u001b[1;33m,\u001b[0m\u001b[1;33m\u001b[0m\u001b[1;33m\u001b[0m\u001b[0m\n\u001b[0;32m      4\u001b[0m               \u001b[0mmarginal_ticks\u001b[0m\u001b[1;33m=\u001b[0m\u001b[1;32mTrue\u001b[0m\u001b[1;33m,\u001b[0m\u001b[1;33m\u001b[0m\u001b[1;33m\u001b[0m\u001b[0m\n\u001b[0;32m      5\u001b[0m               \u001b[0mhue\u001b[0m \u001b[1;33m=\u001b[0m \u001b[1;34m'Performance'\u001b[0m\u001b[1;33m\u001b[0m\u001b[1;33m\u001b[0m\u001b[0m\n",
      "\u001b[1;31mNameError\u001b[0m: name 'sns' is not defined"
     ]
    }
   ],
   "source": [
    "sns.jointplot(data=dados,x=\"Age\", y=\"Value\",\n",
    "              height=30, \n",
    "              ratio=2,\n",
    "              marginal_ticks=True,\n",
    "              hue = 'Performance'\n",
    "             )"
   ]
  },
  {
   "cell_type": "markdown",
   "metadata": {},
   "source": [
    "####  Resposta: É possível interpretar pelo gráfico que o valor dos jogadores está relacionado com a performance do individuo. Os jogadores com performance baixa tem valores mais baixos e um número significativo deles tem menos de 26 anos enquanto que os jogadores com performance média e alta tem uma maior distribuição de idades."
   ]
  },
  {
   "cell_type": "markdown",
   "metadata": {},
   "source": [
    "### 9) Em relação a nacionalidade e ao clube dos jogadores, responda: <font color='red'>(2 pontos)</font>\n",
    "\n",
    "(a) Qual é o país com o maior número de jogadores na classe de Alta Performance? E de performance Normal e Baixa?\n",
    "\n",
    "(b) Qual é o país com maior média de idade dos jogadores? E qual é o país com menor média?\n",
    "\n",
    "(c) Qual é o clube com o maior número de jodarores na classe de Alta Performance?\n",
    "\n",
    "(d) Qual é o clube mais valioso em termos de valor de jogadores? E o menos valioso? Qual é a média e desvio padrão amostral de valor dos clubes?\n",
    "\n",
    "(e) Plote um histograma do valor dos clubes (soma do valor dos jogadores do clube); \n",
    "\n",
    "**Dica:** Use a função groupby do Pandas encadeada com funções de média, soma e contagem (mean, sum, count)."
   ]
  },
  {
   "cell_type": "code",
   "execution_count": 23,
   "metadata": {},
   "outputs": [
    {
     "data": {
      "text/plain": [
       "164"
      ]
     },
     "execution_count": 23,
     "metadata": {},
     "output_type": "execute_result"
    }
   ],
   "source": [
    "len(set(dados['Nationality'])) # Número de paises"
   ]
  },
  {
   "cell_type": "code",
   "execution_count": 57,
   "metadata": {},
   "outputs": [
    {
     "name": "stdout",
     "output_type": "stream",
     "text": [
      "Spain                   260\n",
      "Brazil                  203\n",
      "France                  165\n",
      "Argentina               147\n",
      "Germany                 128\n",
      "                       ... \n",
      "China PR                  1\n",
      "United Arab Emirates      1\n",
      "Kenya                     1\n",
      "Equatorial Guinea         1\n",
      "Northern Ireland          1\n",
      "Name: Nationality, Length: 97, dtype: int64\n",
      "England           1096\n",
      "Germany            900\n",
      "Spain              773\n",
      "Argentina          722\n",
      "France             638\n",
      "                  ... \n",
      "St Kitts Nevis       1\n",
      "Guam                 1\n",
      "Kuwait               1\n",
      "Mauritius            1\n",
      "Uzbekistan           1\n",
      "Name: Nationality, Length: 161, dtype: int64\n",
      "England                463\n",
      "China PR               178\n",
      "Germany                170\n",
      "Republic of Ireland    157\n",
      "Japan                  138\n",
      "                      ... \n",
      "Antigua & Barbuda        1\n",
      "Philippines              1\n",
      "Guyana                   1\n",
      "Tunisia                  1\n",
      "Bolivia                  1\n",
      "Name: Nationality, Length: 106, dtype: int64\n"
     ]
    }
   ],
   "source": [
    "# #pega Nacionalidade dos jogadores com alta performance\n",
    "nat_alta = (performance_alta['Nationality'])\n",
    "\n",
    "print(nat_alta.value_counts())\n",
    "\n",
    "\n",
    "# #pega Nacionalidade dos jogadores com normal performance\n",
    "nat_media = (performance_normal['Nationality'])\n",
    "\n",
    "print(nat_media.value_counts())\n",
    "\n",
    "# #pega Nacionalidade dos jogadores com baixa performance\n",
    "nat_baixa = (performance_baixa['Nationality'])\n",
    "\n",
    "print(nat_baixa.value_counts())"
   ]
  },
  {
   "cell_type": "code",
   "execution_count": 35,
   "metadata": {},
   "outputs": [
    {
     "name": "stdout",
     "output_type": "stream",
     "text": [
      "0        Argentina\n",
      "1         Portugal\n",
      "2           Brazil\n",
      "3            Spain\n",
      "4          Belgium\n",
      "           ...    \n",
      "18202      England\n",
      "18203       Sweden\n",
      "18204      England\n",
      "18205      England\n",
      "18206      England\n",
      "Name: Nationality, Length: 18207, dtype: object\n"
     ]
    }
   ],
   "source": [
    "print(dados['Nationality'])"
   ]
  },
  {
   "cell_type": "code",
   "execution_count": 76,
   "metadata": {},
   "outputs": [
    {
     "name": "stdout",
     "output_type": "stream",
     "text": [
      "Nationality\n",
      "Afghanistan      90\n",
      "Albania         961\n",
      "Algeria        1623\n",
      "Andorra          28\n",
      "Angola          388\n",
      "               ... \n",
      "Uzbekistan       59\n",
      "Venezuela      1629\n",
      "Wales          3191\n",
      "Zambia          200\n",
      "Zimbabwe        349\n",
      "Name: Age, Length: 164, dtype: int64\n"
     ]
    },
    {
     "ename": "AttributeError",
     "evalue": "'NoneType' object has no attribute 'max'",
     "output_type": "error",
     "traceback": [
      "\u001b[1;31m---------------------------------------------------------------------------\u001b[0m",
      "\u001b[1;31mAttributeError\u001b[0m                            Traceback (most recent call last)",
      "\u001b[1;32m~\\AppData\\Local\\Temp/ipykernel_11052/722853483.py\u001b[0m in \u001b[0;36m<module>\u001b[1;34m\u001b[0m\n\u001b[1;32m----> 1\u001b[1;33m \u001b[0mprint\u001b[0m\u001b[1;33m(\u001b[0m\u001b[0mage\u001b[0m\u001b[1;33m.\u001b[0m\u001b[0mgroupby\u001b[0m\u001b[1;33m(\u001b[0m\u001b[1;33m[\u001b[0m\u001b[0mnacionalidade\u001b[0m\u001b[1;33m]\u001b[0m\u001b[1;33m)\u001b[0m\u001b[1;33m.\u001b[0m\u001b[0msum\u001b[0m\u001b[1;33m(\u001b[0m\u001b[1;33m)\u001b[0m\u001b[1;33m)\u001b[0m\u001b[1;33m.\u001b[0m\u001b[0mmax\u001b[0m\u001b[1;33m(\u001b[0m\u001b[1;33m)\u001b[0m\u001b[1;33m\u001b[0m\u001b[1;33m\u001b[0m\u001b[0m\n\u001b[0m",
      "\u001b[1;31mAttributeError\u001b[0m: 'NoneType' object has no attribute 'max'"
     ]
    }
   ],
   "source": [
    "print(age.groupby([nacionalidade]).sum())"
   ]
  },
  {
   "cell_type": "code",
   "execution_count": 58,
   "metadata": {},
   "outputs": [
    {
     "ename": "IndexError",
     "evalue": "invalid index to scalar variable.",
     "output_type": "error",
     "traceback": [
      "\u001b[1;31m---------------------------------------------------------------------------\u001b[0m",
      "\u001b[1;31mIndexError\u001b[0m                                Traceback (most recent call last)",
      "\u001b[1;32m~\\AppData\\Local\\Temp/ipykernel_2720/3189846756.py\u001b[0m in \u001b[0;36m<module>\u001b[1;34m\u001b[0m\n\u001b[1;32m----> 1\u001b[1;33m \u001b[0mmedia_nt\u001b[0m \u001b[1;33m=\u001b[0m \u001b[1;33m(\u001b[0m\u001b[0mmedia_todos\u001b[0m\u001b[1;33m[\u001b[0m\u001b[1;34m'Nationality'\u001b[0m\u001b[1;33m]\u001b[0m\u001b[1;33m)\u001b[0m\u001b[1;33m\u001b[0m\u001b[1;33m\u001b[0m\u001b[0m\n\u001b[0m\u001b[0;32m      2\u001b[0m \u001b[1;33m\u001b[0m\u001b[0m\n\u001b[0;32m      3\u001b[0m \u001b[0mprint\u001b[0m\u001b[1;33m(\u001b[0m\u001b[0mmedia_nt\u001b[0m\u001b[1;33m.\u001b[0m\u001b[0mvalue_counts\u001b[0m\u001b[1;33m(\u001b[0m\u001b[1;33m)\u001b[0m\u001b[1;33m)\u001b[0m\u001b[1;33m\u001b[0m\u001b[1;33m\u001b[0m\u001b[0m\n",
      "\u001b[1;31mIndexError\u001b[0m: invalid index to scalar variable."
     ]
    }
   ],
   "source": [
    "media_nt = (media_todos['Nationality'])\n",
    "\n",
    "print(media_nt.value_counts())"
   ]
  },
  {
   "cell_type": "code",
   "execution_count": 59,
   "metadata": {},
   "outputs": [
    {
     "name": "stdout",
     "output_type": "stream",
     "text": [
      "Chelsea                  24\n",
      "Manchester United        23\n",
      "Tottenham Hotspur        23\n",
      "Liverpool                23\n",
      "Napoli                   23\n",
      "                         ..\n",
      "Kaizer Chiefs             1\n",
      "Junior FC                 1\n",
      "Palermo                   1\n",
      "Puebla FC                 1\n",
      "1. FC Heidenheim 1846     1\n",
      "Name: Club, Length: 290, dtype: int64\n"
     ]
    }
   ],
   "source": [
    "#pega o Clube  com alta performance\n",
    "clube_alta = (performance_alta['Club'])\n",
    "print(clube_alta.value_counts())"
   ]
  },
  {
   "cell_type": "markdown",
   "metadata": {},
   "source": [
    "### 10) Pergunta aberta <font color='red'>(1.25 pontos)</font>:\n",
    "\n",
    "Após analisar todos os dados, você conseguiria traçar uma estratégia de investimento para lucrar com algum time? \n",
    "\n",
    "Quais são as características dos times de alta performance?\n",
    "\n",
    "Você acha possível analisar usando apenas idade e valor, ou precisaria usar outros dados da base da dados disponível?"
   ]
  },
  {
   "cell_type": "markdown",
   "metadata": {},
   "source": [
    "####  Resposta:Analisando times que possuem muitos atletas de alta performance é interessante investir pois esse time é mais provável de ter uma boa performance em competições.\n",
    "\n",
    "####  Resposta: Clubes de alta performance como por exemplo: Chelsea, Man United, Liverpool... são clubes que sempre estão nas melhores competições e ganhando as premiações, que juntamente com os patriocínios podem acabar investindo em promessas de jogadores jovens que futuramente podem se tornar estrelas, ou até mesmo comprando jogadores de outros clubes, fazendo assim o clube crescer e ficar mais famoso.\n",
    "\n",
    "####  Resposta:Sim, é possível analisar apenas com idade e valor, observa-se que os jogadores mais jovens geralmente não tem um valor tão alto mas que jogadores entre 24 anos e 35 anos tem um valor mais alto. Com mais dados conseguiriamos entender quais fatores afetam o valor e porque os atletas mais jovens costumam ter um valor mais baixo."
   ]
  },
  {
   "cell_type": "code",
   "execution_count": null,
   "metadata": {},
   "outputs": [],
   "source": []
  },
  {
   "cell_type": "code",
   "execution_count": null,
   "metadata": {},
   "outputs": [],
   "source": []
  }
 ],
 "metadata": {
  "kernelspec": {
   "display_name": "Python 3 (ipykernel)",
   "language": "python",
   "name": "python3"
  },
  "language_info": {
   "codemirror_mode": {
    "name": "ipython",
    "version": 3
   },
   "file_extension": ".py",
   "mimetype": "text/x-python",
   "name": "python",
   "nbconvert_exporter": "python",
   "pygments_lexer": "ipython3",
   "version": "3.9.7"
  }
 },
 "nbformat": 4,
 "nbformat_minor": 2
}
